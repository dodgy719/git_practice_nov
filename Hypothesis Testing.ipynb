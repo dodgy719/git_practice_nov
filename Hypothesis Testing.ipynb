{
 "cells": [
  {
   "cell_type": "code",
   "execution_count": 1,
   "metadata": {
    "ExecuteTime": {
     "end_time": "2020-12-15T19:14:48.812550Z",
     "start_time": "2020-12-15T19:14:44.229025Z"
    }
   },
   "outputs": [],
   "source": [
    "import pandas as pd\n",
    "import sqlite3\n",
    "import numpy as np\n",
    "import matplotlib.pyplot as plt\n",
    "import seaborn as sns\n",
    "import scipy.stats as stats\n",
    "from statsmodels.stats.power import TTestIndPower\n",
    "import statsmodels.api as sm\n",
    "from statsmodels.formula.api import ols\n",
    "import math\n",
    "sns.set_style('darkgrid')\n",
    "%matplotlib inline\n"
   ]
  },
  {
   "cell_type": "code",
   "execution_count": 2,
   "metadata": {
    "ExecuteTime": {
     "end_time": "2020-12-15T19:16:24.779257Z",
     "start_time": "2020-12-15T19:16:24.776267Z"
    }
   },
   "outputs": [],
   "source": [
    "conn = sqlite3.Connection('Northwind_small.sqlite')\n",
    "cur = conn.cursor()"
   ]
  },
  {
   "cell_type": "code",
   "execution_count": 3,
   "metadata": {
    "ExecuteTime": {
     "end_time": "2020-12-15T19:16:25.115093Z",
     "start_time": "2020-12-15T19:16:25.109165Z"
    }
   },
   "outputs": [
    {
     "data": {
      "text/plain": [
       "[('Employee',),\n",
       " ('Category',),\n",
       " ('Customer',),\n",
       " ('Shipper',),\n",
       " ('Supplier',),\n",
       " ('Order',),\n",
       " ('Product',),\n",
       " ('OrderDetail',),\n",
       " ('CustomerCustomerDemo',),\n",
       " ('CustomerDemographic',),\n",
       " ('Region',),\n",
       " ('Territory',),\n",
       " ('EmployeeTerritory',)]"
      ]
     },
     "execution_count": 3,
     "metadata": {},
     "output_type": "execute_result"
    }
   ],
   "source": [
    "cur.execute('select name from sqlite_master where type =\"table\"').fetchall()"
   ]
  },
  {
   "cell_type": "code",
   "execution_count": 4,
   "metadata": {
    "ExecuteTime": {
     "end_time": "2020-12-15T19:16:45.413420Z",
     "start_time": "2020-12-15T19:16:45.388472Z"
    }
   },
   "outputs": [
    {
     "data": {
      "text/html": [
       "<div>\n",
       "<style scoped>\n",
       "    .dataframe tbody tr th:only-of-type {\n",
       "        vertical-align: middle;\n",
       "    }\n",
       "\n",
       "    .dataframe tbody tr th {\n",
       "        vertical-align: top;\n",
       "    }\n",
       "\n",
       "    .dataframe thead th {\n",
       "        text-align: right;\n",
       "    }\n",
       "</style>\n",
       "<table border=\"1\" class=\"dataframe\">\n",
       "  <thead>\n",
       "    <tr style=\"text-align: right;\">\n",
       "      <th></th>\n",
       "      <th>Id</th>\n",
       "      <th>OrderId</th>\n",
       "      <th>ProductId</th>\n",
       "      <th>UnitPrice</th>\n",
       "      <th>Quantity</th>\n",
       "      <th>Discount</th>\n",
       "    </tr>\n",
       "  </thead>\n",
       "  <tbody>\n",
       "    <tr>\n",
       "      <th>0</th>\n",
       "      <td>10248/11</td>\n",
       "      <td>10248</td>\n",
       "      <td>11</td>\n",
       "      <td>14.0</td>\n",
       "      <td>12</td>\n",
       "      <td>0.0</td>\n",
       "    </tr>\n",
       "    <tr>\n",
       "      <th>1</th>\n",
       "      <td>10248/42</td>\n",
       "      <td>10248</td>\n",
       "      <td>42</td>\n",
       "      <td>9.8</td>\n",
       "      <td>10</td>\n",
       "      <td>0.0</td>\n",
       "    </tr>\n",
       "    <tr>\n",
       "      <th>2</th>\n",
       "      <td>10248/72</td>\n",
       "      <td>10248</td>\n",
       "      <td>72</td>\n",
       "      <td>34.8</td>\n",
       "      <td>5</td>\n",
       "      <td>0.0</td>\n",
       "    </tr>\n",
       "    <tr>\n",
       "      <th>3</th>\n",
       "      <td>10249/14</td>\n",
       "      <td>10249</td>\n",
       "      <td>14</td>\n",
       "      <td>18.6</td>\n",
       "      <td>9</td>\n",
       "      <td>0.0</td>\n",
       "    </tr>\n",
       "    <tr>\n",
       "      <th>4</th>\n",
       "      <td>10249/51</td>\n",
       "      <td>10249</td>\n",
       "      <td>51</td>\n",
       "      <td>42.4</td>\n",
       "      <td>40</td>\n",
       "      <td>0.0</td>\n",
       "    </tr>\n",
       "  </tbody>\n",
       "</table>\n",
       "</div>"
      ],
      "text/plain": [
       "         Id  OrderId  ProductId  UnitPrice  Quantity  Discount\n",
       "0  10248/11    10248         11       14.0        12       0.0\n",
       "1  10248/42    10248         42        9.8        10       0.0\n",
       "2  10248/72    10248         72       34.8         5       0.0\n",
       "3  10249/14    10249         14       18.6         9       0.0\n",
       "4  10249/51    10249         51       42.4        40       0.0"
      ]
     },
     "execution_count": 4,
     "metadata": {},
     "output_type": "execute_result"
    }
   ],
   "source": [
    "cur.execute(\"\"\"SELECT *\n",
    "               FROM 'OrderDetail' \"\"\")\n",
    "\n",
    "df = pd.DataFrame(cur.fetchall())\n",
    "df.columns = [x[0] for x in cur.description]\n",
    "\n",
    "df.head()"
   ]
  },
  {
   "cell_type": "markdown",
   "metadata": {},
   "source": [
    "**Null** : Giving a discount does not increase the sale quantity \n",
    "**Alternate** :  Giving a discount does increase the sale quantity\n"
   ]
  },
  {
   "cell_type": "code",
   "execution_count": 6,
   "metadata": {
    "ExecuteTime": {
     "end_time": "2020-12-15T19:21:57.849457Z",
     "start_time": "2020-12-15T19:21:57.836484Z"
    }
   },
   "outputs": [
    {
     "name": "stdout",
     "output_type": "stream",
     "text": [
      "<class 'pandas.core.frame.DataFrame'>\n",
      "RangeIndex: 2155 entries, 0 to 2154\n",
      "Data columns (total 6 columns):\n",
      " #   Column     Non-Null Count  Dtype  \n",
      "---  ------     --------------  -----  \n",
      " 0   Id         2155 non-null   object \n",
      " 1   OrderId    2155 non-null   int64  \n",
      " 2   ProductId  2155 non-null   int64  \n",
      " 3   UnitPrice  2155 non-null   float64\n",
      " 4   Quantity   2155 non-null   int64  \n",
      " 5   Discount   2155 non-null   float64\n",
      "dtypes: float64(2), int64(3), object(1)\n",
      "memory usage: 101.1+ KB\n"
     ]
    }
   ],
   "source": [
    "df.info()"
   ]
  },
  {
   "cell_type": "code",
   "execution_count": 7,
   "metadata": {
    "ExecuteTime": {
     "end_time": "2020-12-15T19:23:35.798162Z",
     "start_time": "2020-12-15T19:23:35.793660Z"
    }
   },
   "outputs": [
    {
     "data": {
      "text/plain": [
       "0.00    1317\n",
       "0.05     185\n",
       "0.10     173\n",
       "0.20     161\n",
       "0.15     157\n",
       "0.25     154\n",
       "0.03       3\n",
       "0.02       2\n",
       "0.01       1\n",
       "0.04       1\n",
       "0.06       1\n",
       "Name: Discount, dtype: int64"
      ]
     },
     "execution_count": 7,
     "metadata": {},
     "output_type": "execute_result"
    }
   ],
   "source": [
    "df.Discount.value_counts()"
   ]
  },
  {
   "cell_type": "code",
   "execution_count": 8,
   "metadata": {
    "ExecuteTime": {
     "end_time": "2020-12-15T19:27:54.063499Z",
     "start_time": "2020-12-15T19:27:53.816776Z"
    }
   },
   "outputs": [
    {
     "data": {
      "text/html": [
       "<div>\n",
       "<style scoped>\n",
       "    .dataframe tbody tr th:only-of-type {\n",
       "        vertical-align: middle;\n",
       "    }\n",
       "\n",
       "    .dataframe tbody tr th {\n",
       "        vertical-align: top;\n",
       "    }\n",
       "\n",
       "    .dataframe thead th {\n",
       "        text-align: right;\n",
       "    }\n",
       "</style>\n",
       "<table border=\"1\" class=\"dataframe\">\n",
       "  <thead>\n",
       "    <tr style=\"text-align: right;\">\n",
       "      <th></th>\n",
       "      <th>Id</th>\n",
       "      <th>OrderId</th>\n",
       "      <th>ProductId</th>\n",
       "      <th>UnitPrice</th>\n",
       "      <th>Quantity</th>\n",
       "      <th>Discount</th>\n",
       "    </tr>\n",
       "  </thead>\n",
       "  <tbody>\n",
       "    <tr>\n",
       "      <th>6</th>\n",
       "      <td>10250/51</td>\n",
       "      <td>10250</td>\n",
       "      <td>51</td>\n",
       "      <td>42.40</td>\n",
       "      <td>35</td>\n",
       "      <td>0.15</td>\n",
       "    </tr>\n",
       "    <tr>\n",
       "      <th>7</th>\n",
       "      <td>10250/65</td>\n",
       "      <td>10250</td>\n",
       "      <td>65</td>\n",
       "      <td>16.80</td>\n",
       "      <td>15</td>\n",
       "      <td>0.15</td>\n",
       "    </tr>\n",
       "    <tr>\n",
       "      <th>8</th>\n",
       "      <td>10251/22</td>\n",
       "      <td>10251</td>\n",
       "      <td>22</td>\n",
       "      <td>16.80</td>\n",
       "      <td>6</td>\n",
       "      <td>0.05</td>\n",
       "    </tr>\n",
       "    <tr>\n",
       "      <th>9</th>\n",
       "      <td>10251/57</td>\n",
       "      <td>10251</td>\n",
       "      <td>57</td>\n",
       "      <td>15.60</td>\n",
       "      <td>15</td>\n",
       "      <td>0.05</td>\n",
       "    </tr>\n",
       "    <tr>\n",
       "      <th>11</th>\n",
       "      <td>10252/20</td>\n",
       "      <td>10252</td>\n",
       "      <td>20</td>\n",
       "      <td>64.80</td>\n",
       "      <td>40</td>\n",
       "      <td>0.05</td>\n",
       "    </tr>\n",
       "    <tr>\n",
       "      <th>...</th>\n",
       "      <td>...</td>\n",
       "      <td>...</td>\n",
       "      <td>...</td>\n",
       "      <td>...</td>\n",
       "      <td>...</td>\n",
       "      <td>...</td>\n",
       "    </tr>\n",
       "    <tr>\n",
       "      <th>2144</th>\n",
       "      <td>11077/39</td>\n",
       "      <td>11077</td>\n",
       "      <td>39</td>\n",
       "      <td>18.00</td>\n",
       "      <td>2</td>\n",
       "      <td>0.05</td>\n",
       "    </tr>\n",
       "    <tr>\n",
       "      <th>2146</th>\n",
       "      <td>11077/46</td>\n",
       "      <td>11077</td>\n",
       "      <td>46</td>\n",
       "      <td>12.00</td>\n",
       "      <td>3</td>\n",
       "      <td>0.02</td>\n",
       "    </tr>\n",
       "    <tr>\n",
       "      <th>2149</th>\n",
       "      <td>11077/60</td>\n",
       "      <td>11077</td>\n",
       "      <td>60</td>\n",
       "      <td>34.00</td>\n",
       "      <td>2</td>\n",
       "      <td>0.06</td>\n",
       "    </tr>\n",
       "    <tr>\n",
       "      <th>2150</th>\n",
       "      <td>11077/64</td>\n",
       "      <td>11077</td>\n",
       "      <td>64</td>\n",
       "      <td>33.25</td>\n",
       "      <td>2</td>\n",
       "      <td>0.03</td>\n",
       "    </tr>\n",
       "    <tr>\n",
       "      <th>2152</th>\n",
       "      <td>11077/73</td>\n",
       "      <td>11077</td>\n",
       "      <td>73</td>\n",
       "      <td>15.00</td>\n",
       "      <td>2</td>\n",
       "      <td>0.01</td>\n",
       "    </tr>\n",
       "  </tbody>\n",
       "</table>\n",
       "<p>838 rows × 6 columns</p>\n",
       "</div>"
      ],
      "text/plain": [
       "            Id  OrderId  ProductId  UnitPrice  Quantity  Discount\n",
       "6     10250/51    10250         51      42.40        35      0.15\n",
       "7     10250/65    10250         65      16.80        15      0.15\n",
       "8     10251/22    10251         22      16.80         6      0.05\n",
       "9     10251/57    10251         57      15.60        15      0.05\n",
       "11    10252/20    10252         20      64.80        40      0.05\n",
       "...        ...      ...        ...        ...       ...       ...\n",
       "2144  11077/39    11077         39      18.00         2      0.05\n",
       "2146  11077/46    11077         46      12.00         3      0.02\n",
       "2149  11077/60    11077         60      34.00         2      0.06\n",
       "2150  11077/64    11077         64      33.25         2      0.03\n",
       "2152  11077/73    11077         73      15.00         2      0.01\n",
       "\n",
       "[838 rows x 6 columns]"
      ]
     },
     "execution_count": 8,
     "metadata": {},
     "output_type": "execute_result"
    }
   ],
   "source": [
    "df[df.Discount > 0]"
   ]
  },
  {
   "cell_type": "code",
   "execution_count": 12,
   "metadata": {
    "ExecuteTime": {
     "end_time": "2020-12-15T19:28:45.898625Z",
     "start_time": "2020-12-15T19:28:45.894842Z"
    }
   },
   "outputs": [],
   "source": [
    "df_discount = df[df.Discount > 0].reset_index()"
   ]
  },
  {
   "cell_type": "code",
   "execution_count": 13,
   "metadata": {
    "ExecuteTime": {
     "end_time": "2020-12-15T19:28:51.959616Z",
     "start_time": "2020-12-15T19:28:51.956161Z"
    }
   },
   "outputs": [],
   "source": [
    "df_no_discount = df[df.Discount == 0].reset_index()"
   ]
  },
  {
   "cell_type": "code",
   "execution_count": 15,
   "metadata": {
    "ExecuteTime": {
     "end_time": "2020-12-15T19:29:24.542172Z",
     "start_time": "2020-12-15T19:29:24.537867Z"
    }
   },
   "outputs": [
    {
     "name": "stdout",
     "output_type": "stream",
     "text": [
      "838\n"
     ]
    },
    {
     "data": {
      "text/plain": [
       "1317"
      ]
     },
     "execution_count": 15,
     "metadata": {},
     "output_type": "execute_result"
    }
   ],
   "source": [
    "print(len(df_discount))\n",
    "len(df_no_discount)"
   ]
  },
  {
   "cell_type": "code",
   "execution_count": 21,
   "metadata": {
    "ExecuteTime": {
     "end_time": "2020-12-15T19:32:49.235559Z",
     "start_time": "2020-12-15T19:32:49.072312Z"
    }
   },
   "outputs": [
    {
     "data": {
      "text/plain": [
       "array([[<AxesSubplot:title={'center':'Quantity'}>]], dtype=object)"
      ]
     },
     "execution_count": 21,
     "metadata": {},
     "output_type": "execute_result"
    },
    {
     "data": {
      "image/png": "[encoded data removed]",
      "text/plain": [
       "<Figure size 432x288 with 1 Axes>"
      ]
     },
     "metadata": {
      "needs_background": "light"
     },
     "output_type": "display_data"
    }
   ],
   "source": [
    "df_discount.hist(column = \"Quantity\")"
   ]
  },
  {
   "cell_type": "code",
   "execution_count": 41,
   "metadata": {
    "ExecuteTime": {
     "end_time": "2020-12-15T19:42:19.623164Z",
     "start_time": "2020-12-15T19:42:19.620121Z"
    }
   },
   "outputs": [
    {
     "data": {
      "text/plain": [
       "27.10978520286396"
      ]
     },
     "execution_count": 41,
     "metadata": {},
     "output_type": "execute_result"
    }
   ],
   "source": [
    "df_discount[\"Quantity\"].mean()"
   ]
  },
  {
   "cell_type": "code",
   "execution_count": 19,
   "metadata": {
    "ExecuteTime": {
     "end_time": "2020-12-15T19:32:32.042436Z",
     "start_time": "2020-12-15T19:32:32.039247Z"
    }
   },
   "outputs": [
    {
     "data": {
      "text/plain": [
       "ShapiroResult(statistic=0.8690301179885864, pvalue=6.88120409395894e-26)"
      ]
     },
     "execution_count": 19,
     "metadata": {},
     "output_type": "execute_result"
    }
   ],
   "source": [
    "stats.shapiro(df_discount['Quantity'])"
   ]
  },
  {
   "cell_type": "code",
   "execution_count": 23,
   "metadata": {
    "ExecuteTime": {
     "end_time": "2020-12-15T19:33:49.722793Z",
     "start_time": "2020-12-15T19:33:49.568059Z"
    }
   },
   "outputs": [
    {
     "data": {
      "text/plain": [
       "array([[<AxesSubplot:title={'center':'Quantity'}>]], dtype=object)"
      ]
     },
     "execution_count": 23,
     "metadata": {},
     "output_type": "execute_result"
    },
    {
     "data": {
      "image/png": "[encoded data removed]",
      "text/plain": [
       "<Figure size 432x288 with 1 Axes>"
      ]
     },
     "metadata": {
      "needs_background": "light"
     },
     "output_type": "display_data"
    }
   ],
   "source": [
    "df_no_discount.hist(\"Quantity\")"
   ]
  },
  {
   "cell_type": "code",
   "execution_count": 34,
   "metadata": {
    "ExecuteTime": {
     "end_time": "2020-12-15T19:39:41.697020Z",
     "start_time": "2020-12-15T19:39:41.692228Z"
    }
   },
   "outputs": [
    {
     "data": {
      "text/plain": [
       "21.715261958997722"
      ]
     },
     "execution_count": 34,
     "metadata": {},
     "output_type": "execute_result"
    }
   ],
   "source": [
    "df_no_discount[\"Quantity\"].mean()"
   ]
  },
  {
   "cell_type": "code",
   "execution_count": 24,
   "metadata": {
    "ExecuteTime": {
     "end_time": "2020-12-15T19:34:29.101892Z",
     "start_time": "2020-12-15T19:34:29.098580Z"
    }
   },
   "outputs": [
    {
     "data": {
      "text/plain": [
       "ShapiroResult(statistic=0.8434571027755737, pvalue=3.803856556577728e-34)"
      ]
     },
     "execution_count": 24,
     "metadata": {},
     "output_type": "execute_result"
    }
   ],
   "source": [
    "stats.shapiro(df_no_discount['Quantity'])"
   ]
  },
  {
   "cell_type": "code",
   "execution_count": 28,
   "metadata": {
    "ExecuteTime": {
     "end_time": "2020-12-15T19:38:41.498775Z",
     "start_time": "2020-12-15T19:38:41.496521Z"
    }
   },
   "outputs": [],
   "source": [
    "def get_sample(data):\n",
    "    import numpy as np\n",
    "    sample = np.random.choice(data,30)\n",
    "    return sample"
   ]
  },
  {
   "cell_type": "code",
   "execution_count": 62,
   "metadata": {
    "ExecuteTime": {
     "end_time": "2020-12-15T19:59:57.818942Z",
     "start_time": "2020-12-15T19:59:57.816733Z"
    }
   },
   "outputs": [],
   "source": [
    "def get_sample_mean(data):\n",
    "    sample_means = []\n",
    "    for i in range(6):\n",
    "        sample_means.append(get_sample(data).mean())\n",
    "    return sample_means"
   ]
  },
  {
   "cell_type": "code",
   "execution_count": 63,
   "metadata": {
    "ExecuteTime": {
     "end_time": "2020-12-15T19:59:58.353709Z",
     "start_time": "2020-12-15T19:59:58.351128Z"
    }
   },
   "outputs": [],
   "source": [
    "normal_sample_no_discount = get_sample_mean(df_no_discount[\"Quantity\"])"
   ]
  },
  {
   "cell_type": "code",
   "execution_count": 64,
   "metadata": {
    "ExecuteTime": {
     "end_time": "2020-12-15T19:59:58.620504Z",
     "start_time": "2020-12-15T19:59:58.617779Z"
    }
   },
   "outputs": [
    {
     "name": "stdout",
     "output_type": "stream",
     "text": [
      "6\n"
     ]
    }
   ],
   "source": [
    "np.mean(normal_sample_no_discount)\n",
    "print(len(normal_sample_no_discount))"
   ]
  },
  {
   "cell_type": "code",
   "execution_count": 65,
   "metadata": {
    "ExecuteTime": {
     "end_time": "2020-12-15T19:59:58.843990Z",
     "start_time": "2020-12-15T19:59:58.838192Z"
    }
   },
   "outputs": [
    {
     "data": {
      "text/plain": [
       "ShapiroResult(statistic=0.9275590777397156, pvalue=0.5613881349563599)"
      ]
     },
     "execution_count": 65,
     "metadata": {},
     "output_type": "execute_result"
    }
   ],
   "source": [
    "stats.shapiro(normal_sample_no_discount)"
   ]
  },
  {
   "cell_type": "code",
   "execution_count": 66,
   "metadata": {
    "ExecuteTime": {
     "end_time": "2020-12-15T19:59:59.541195Z",
     "start_time": "2020-12-15T19:59:59.366074Z"
    }
   },
   "outputs": [
    {
     "data": {
      "text/plain": [
       "(array([2., 0., 0., 0., 1., 1., 0., 0., 1., 1.]),\n",
       " array([16.4       , 16.90666667, 17.41333333, 17.92      , 18.42666667,\n",
       "        18.93333333, 19.44      , 19.94666667, 20.45333333, 20.96      ,\n",
       "        21.46666667]),\n",
       " <BarContainer object of 10 artists>)"
      ]
     },
     "execution_count": 66,
     "metadata": {},
     "output_type": "execute_result"
    },
    {
     "data": {
      "image/png": "[encoded data removed]",
      "text/plain": [
       "<Figure size 432x288 with 1 Axes>"
      ]
     },
     "metadata": {
      "needs_background": "light"
     },
     "output_type": "display_data"
    }
   ],
   "source": [
    "plt.hist(normal_sample_no_discount)"
   ]
  },
  {
   "cell_type": "code",
   "execution_count": 67,
   "metadata": {
    "ExecuteTime": {
     "end_time": "2020-12-15T19:59:59.796967Z",
     "start_time": "2020-12-15T19:59:59.594516Z"
    }
   },
   "outputs": [
    {
     "data": {
      "text/plain": [
       "<AxesSubplot:ylabel='Density'>"
      ]
     },
     "execution_count": 67,
     "metadata": {},
     "output_type": "execute_result"
    },
    {
     "data": {
      "image/png": "[encoded data removed]",
      "text/plain": [
       "<Figure size 432x288 with 1 Axes>"
      ]
     },
     "metadata": {
      "needs_background": "light"
     },
     "output_type": "display_data"
    }
   ],
   "source": [
    "sns.kdeplot(normal_sample_no_discount)"
   ]
  },
  {
   "cell_type": "code",
   "execution_count": 68,
   "metadata": {
    "ExecuteTime": {
     "end_time": "2020-12-15T19:59:59.852887Z",
     "start_time": "2020-12-15T19:59:59.848275Z"
    }
   },
   "outputs": [],
   "source": [
    "normal_sample_discount = get_sample_mean(df_discount[\"Quantity\"])"
   ]
  },
  {
   "cell_type": "code",
   "execution_count": 69,
   "metadata": {
    "ExecuteTime": {
     "end_time": "2020-12-15T19:59:59.923865Z",
     "start_time": "2020-12-15T19:59:59.920440Z"
    }
   },
   "outputs": [
    {
     "data": {
      "text/plain": [
       "27.349999999999998"
      ]
     },
     "execution_count": 69,
     "metadata": {},
     "output_type": "execute_result"
    }
   ],
   "source": [
    "np.mean(normal_sample_discount)"
   ]
  },
  {
   "cell_type": "code",
   "execution_count": 72,
   "metadata": {
    "ExecuteTime": {
     "end_time": "2020-12-15T20:00:11.896103Z",
     "start_time": "2020-12-15T20:00:11.892545Z"
    }
   },
   "outputs": [
    {
     "data": {
      "text/plain": [
       "ShapiroResult(statistic=0.929263710975647, pvalue=0.5744280815124512)"
      ]
     },
     "execution_count": 72,
     "metadata": {},
     "output_type": "execute_result"
    }
   ],
   "source": [
    "stats.shapiro(normal_sample_discount)"
   ]
  },
  {
   "cell_type": "code",
   "execution_count": 73,
   "metadata": {
    "ExecuteTime": {
     "end_time": "2020-12-15T20:00:12.307255Z",
     "start_time": "2020-12-15T20:00:12.140003Z"
    }
   },
   "outputs": [
    {
     "data": {
      "text/plain": [
       "(array([1., 1., 1., 1., 0., 0., 0., 1., 0., 1.]),\n",
       " array([22.5       , 23.68333333, 24.86666667, 26.05      , 27.23333333,\n",
       "        28.41666667, 29.6       , 30.78333333, 31.96666667, 33.15      ,\n",
       "        34.33333333]),\n",
       " <BarContainer object of 10 artists>)"
      ]
     },
     "execution_count": 73,
     "metadata": {},
     "output_type": "execute_result"
    },
    {
     "data": {
      "image/png": "[encoded data removed]",
      "text/plain": [
       "<Figure size 432x288 with 1 Axes>"
      ]
     },
     "metadata": {
      "needs_background": "light"
     },
     "output_type": "display_data"
    }
   ],
   "source": [
    "plt.hist(normal_sample_discount)"
   ]
  },
  {
   "cell_type": "code",
   "execution_count": 74,
   "metadata": {
    "ExecuteTime": {
     "end_time": "2020-12-15T20:00:12.564027Z",
     "start_time": "2020-12-15T20:00:12.370589Z"
    }
   },
   "outputs": [
    {
     "data": {
      "text/plain": [
       "<AxesSubplot:ylabel='Density'>"
      ]
     },
     "execution_count": 74,
     "metadata": {},
     "output_type": "execute_result"
    },
    {
     "data": {
      "image/png": "[encoded data removed]",
      "text/plain": [
       "<Figure size 432x288 with 1 Axes>"
      ]
     },
     "metadata": {
      "needs_background": "light"
     },
     "output_type": "display_data"
    }
   ],
   "source": [
    "sns.kdeplot(normal_sample_discount)"
   ]
  },
  {
   "cell_type": "code",
   "execution_count": 75,
   "metadata": {
    "ExecuteTime": {
     "end_time": "2020-12-15T20:00:13.635920Z",
     "start_time": "2020-12-15T20:00:13.632079Z"
    }
   },
   "outputs": [
    {
     "data": {
      "text/plain": [
       "Ttest_indResult(statistic=4.230118922605225, pvalue=0.001743464638572072)"
      ]
     },
     "execution_count": 75,
     "metadata": {},
     "output_type": "execute_result"
    }
   ],
   "source": [
    "stats.ttest_ind(normal_sample_discount, normal_sample_no_discount)"
   ]
  },
  {
   "cell_type": "code",
   "execution_count": 78,
   "metadata": {
    "ExecuteTime": {
     "end_time": "2020-12-15T20:00:26.789889Z",
     "start_time": "2020-12-15T20:00:26.786788Z"
    }
   },
   "outputs": [
    {
     "data": {
      "text/plain": [
       "Ttest_indResult(statistic=4.230118922605224, pvalue=0.003884957463370567)"
      ]
     },
     "execution_count": 78,
     "metadata": {},
     "output_type": "execute_result"
    }
   ],
   "source": [
    "stats.ttest_ind(normal_sample_discount, normal_sample_no_discount, equal_var = False)"
   ]
  },
  {
   "cell_type": "code",
   "execution_count": 79,
   "metadata": {
    "ExecuteTime": {
     "end_time": "2020-12-15T20:00:27.063488Z",
     "start_time": "2020-12-15T20:00:27.058271Z"
    }
   },
   "outputs": [
    {
     "data": {
      "text/plain": [
       "Ttest_indResult(statistic=6.4785631962949015, pvalue=1.1440924523215966e-10)"
      ]
     },
     "execution_count": 79,
     "metadata": {},
     "output_type": "execute_result"
    }
   ],
   "source": [
    "stats.ttest_ind(df_discount[\"Quantity\"], df_no_discount[\"Quantity\"])"
   ]
  },
  {
   "cell_type": "code",
   "execution_count": 80,
   "metadata": {
    "ExecuteTime": {
     "end_time": "2020-12-15T20:00:27.246445Z",
     "start_time": "2020-12-15T20:00:27.239709Z"
    }
   },
   "outputs": [
    {
     "data": {
      "text/plain": [
       "Ttest_indResult(statistic=6.239069142123973, pvalue=5.65641429030433e-10)"
      ]
     },
     "execution_count": 80,
     "metadata": {},
     "output_type": "execute_result"
    }
   ],
   "source": [
    "stats.ttest_ind(df_discount[\"Quantity\"], df_no_discount[\"Quantity\"], equal_var= False)"
   ]
  },
  {
   "cell_type": "code",
   "execution_count": 81,
   "metadata": {
    "ExecuteTime": {
     "end_time": "2020-12-15T20:00:27.452423Z",
     "start_time": "2020-12-15T20:00:27.448731Z"
    }
   },
   "outputs": [],
   "source": [
    "def cohens_d(sample1,sample2):\n",
    "    from numpy import std, mean, sqrt\n",
    "    n1 = len(sample1)\n",
    "    n2 = len(sample2)\n",
    "    deg_freed = n1 + n2 - 2\n",
    "    return abs(mean(sample1) - mean(sample2)) / sqrt(((n1 - 1) * std(sample1, ddof=1) **2 + (n2 - 1) * std(sample2, ddof=1) **2) / deg_freed)"
   ]
  },
  {
   "cell_type": "code",
   "execution_count": 82,
   "metadata": {
    "ExecuteTime": {
     "end_time": "2020-12-15T20:00:27.628432Z",
     "start_time": "2020-12-15T20:00:27.624652Z"
    }
   },
   "outputs": [
    {
     "data": {
      "text/plain": [
       "2.4422602986702566"
      ]
     },
     "execution_count": 82,
     "metadata": {},
     "output_type": "execute_result"
    }
   ],
   "source": [
    "cohens_d(normal_sample_discount, normal_sample_no_discount)"
   ]
  },
  {
   "cell_type": "code",
   "execution_count": 83,
   "metadata": {
    "ExecuteTime": {
     "end_time": "2020-12-15T20:00:28.416406Z",
     "start_time": "2020-12-15T20:00:28.413961Z"
    }
   },
   "outputs": [],
   "source": [
    "power = TTestIndPower()"
   ]
  },
  {
   "cell_type": "code",
   "execution_count": 85,
   "metadata": {
    "ExecuteTime": {
     "end_time": "2020-12-15T20:00:37.150210Z",
     "start_time": "2020-12-15T20:00:37.146184Z"
    }
   },
   "outputs": [
    {
     "data": {
      "text/plain": [
       "0.8019236099197753"
      ]
     },
     "execution_count": 85,
     "metadata": {},
     "output_type": "execute_result"
    }
   ],
   "source": [
    "power.solve_power(effect_size= 1.80, nobs1= 6, alpha = 0.05)"
   ]
  },
  {
   "cell_type": "code",
   "execution_count": 61,
   "metadata": {
    "ExecuteTime": {
     "end_time": "2020-12-15T19:59:40.775587Z",
     "start_time": "2020-12-15T19:59:40.760853Z"
    }
   },
   "outputs": [
    {
     "data": {
      "text/plain": [
       "5.976650212211388"
      ]
     },
     "execution_count": 61,
     "metadata": {},
     "output_type": "execute_result"
    }
   ],
   "source": [
    "power.solve_power(effect_size= 1.8, power = 0.80, alpha = 0.05)"
   ]
  },
  {
   "cell_type": "code",
   "execution_count": null,
   "metadata": {},
   "outputs": [],
   "source": []
  },
  {
   "cell_type": "code",
   "execution_count": null,
   "metadata": {},
   "outputs": [],
   "source": []
  },
  {
   "cell_type": "code",
   "execution_count": null,
   "metadata": {},
   "outputs": [],
   "source": []
  },
  {
   "cell_type": "code",
   "execution_count": null,
   "metadata": {},
   "outputs": [],
   "source": []
  },
  {
   "cell_type": "code",
   "execution_count": 5,
   "metadata": {
    "ExecuteTime": {
     "end_time": "2020-12-15T19:21:40.552703Z",
     "start_time": "2020-12-15T19:21:40.546740Z"
    },
    "scrolled": true
   },
   "outputs": [
    {
     "data": {
      "text/plain": [
       "0.00    1317\n",
       "0.05     185\n",
       "0.10     173\n",
       "0.20     161\n",
       "0.15     157\n",
       "0.25     154\n",
       "0.03       3\n",
       "0.02       2\n",
       "0.01       1\n",
       "0.04       1\n",
       "0.06       1\n",
       "Name: Discount, dtype: int64"
      ]
     },
     "execution_count": 5,
     "metadata": {},
     "output_type": "execute_result"
    }
   ],
   "source": [
    "df.Discount.value_counts()"
   ]
  },
  {
   "cell_type": "code",
   "execution_count": 10,
   "metadata": {
    "ExecuteTime": {
     "end_time": "2020-06-30T15:09:22.271290Z",
     "start_time": "2020-06-30T15:09:22.268584Z"
    }
   },
   "outputs": [],
   "source": [
    "discount_rates = set(df.Discount.values)"
   ]
  },
  {
   "cell_type": "code",
   "execution_count": 11,
   "metadata": {
    "ExecuteTime": {
     "end_time": "2020-06-30T15:09:33.803501Z",
     "start_time": "2020-06-30T15:09:33.785415Z"
    }
   },
   "outputs": [
    {
     "data": {
      "text/plain": [
       "{0.0: 21.715261958997722,\n",
       " 0.25: 28.24025974025974,\n",
       " 0.2: 27.024844720496894,\n",
       " 0.05: 28.01081081081081,\n",
       " 0.15: 28.38216560509554,\n",
       " 0.1: 25.23699421965318,\n",
       " 0.03: 1.6666666666666667,\n",
       " 0.06: 2.0,\n",
       " 0.01: 2.0,\n",
       " 0.04: 1.0,\n",
       " 0.02: 2.0}"
      ]
     },
     "execution_count": 11,
     "metadata": {},
     "output_type": "execute_result"
    }
   ],
   "source": [
    "avg_discount_order_size = {}\n",
    "\n",
    "for d in discount_rates: \n",
    "    avg_discount_order_size[d] = df[df['Discount'] == d]['Quantity'].mean()\n",
    "    \n",
    "avg_discount_order_size"
   ]
  },
  {
   "cell_type": "code",
   "execution_count": 12,
   "metadata": {
    "ExecuteTime": {
     "end_time": "2020-06-30T15:09:49.238250Z",
     "start_time": "2020-06-30T15:09:48.653601Z"
    }
   },
   "outputs": [
    {
     "data": {
      "image/png": "[encoded data removed]",
      "text/plain": [
       "<Figure size 1296x432 with 2 Axes>"
      ]
     },
     "metadata": {
      "needs_background": "light"
     },
     "output_type": "display_data"
    }
   ],
   "source": [
    "# set figure size and axes for two side-by-side plots\n",
    "plt.figure(figsize=(18,6))\n",
    "ax1 = plt.subplot(1,2,1)\n",
    "ax2 = plt.subplot(1,2,2)\n",
    "\n",
    "# plot the average quantity sold at each level of discount\n",
    "a = sns.barplot(x=list(avg_discount_order_size.keys()), y=list(avg_discount_order_size.values()), ax=ax1)\n",
    "a.axes.set_title('Avg Quantity Sold by Discount Rate')\n",
    "a.axes.set_xlabel('Discount')\n",
    "a.axes.set_ylabel('Avg Quantity per Order')\n",
    "\n",
    "# plot the mean and distribution of quantity sold at each discount level\n",
    "b = sns.boxplot(x=df.Discount, y=df.Quantity, data=df, ax=ax2)\n",
    "b.axes.set_title('Mean and Distribution of Quantity by Discount Rate')\n",
    "\n",
    "plt.show()"
   ]
  },
  {
   "cell_type": "code",
   "execution_count": 13,
   "metadata": {
    "ExecuteTime": {
     "end_time": "2020-06-30T15:13:55.184884Z",
     "start_time": "2020-06-30T15:13:55.178858Z"
    }
   },
   "outputs": [],
   "source": [
    "no_d = np.array(df[df['Discount'] == 0.0]['Quantity'])\n",
    "d = np.array(df[df['Discount'] != 0.0]['Quantity'])"
   ]
  },
  {
   "cell_type": "code",
   "execution_count": 86,
   "metadata": {
    "ExecuteTime": {
     "end_time": "2020-06-30T18:17:19.724454Z",
     "start_time": "2020-06-30T18:17:19.719674Z"
    }
   },
   "outputs": [
    {
     "data": {
      "text/plain": [
       "array([ 35,  15,   6,  15,  40,  25,  15,  21,  50,  65,   6,  16,  15,\n",
       "        21,  12,  60,  60,  36,  25,  12,  70,  15,  60,  20,  24,  15,\n",
       "        60,  33,  12,   6,  15,  15,  20,   5,  45,  40,  36,  40,  15,\n",
       "        10,   3,  20,  24,   2,  40,  30,  40,  30,  15,  25,  25,  30,\n",
       "        40,  30,  25,  21,  70,  40,  80,  25,  50,  35,  30,  10,   8,\n",
       "        20,  12,  50,  25,  40,  10,  16,  10,  40,   7,  25,   6,  48,\n",
       "        18,  70,  20,  12,  40,   9,  24,  56,  40,  40,   4,  70,  36,\n",
       "        50,   6,  15,  15,  18,  20,  77,  10,  20,  12,  50,  30,   8,\n",
       "        10,  10,  20,  56,  70,  80,  54,  55,   5,  13,  35,  18,  15,\n",
       "        20,   6,  12,  40,  70,  42,  80,  50,  42,  20,  20,   8,  16,\n",
       "        20,  18,  20,   6,  10,  20,   8,  15,  20,  60,  40,  24,  25,\n",
       "        42,   7,  70,  28,  70,  10,  18, 120,  21,  70,  30,  40,  30,\n",
       "        30,  42,   5,   2,  25,  40,   9,  20,  18,   2,  36,  60,  20,\n",
       "        20,   2,   8,  20,   4,  15,  10,  60,  49,  30,  10,  20,  35,\n",
       "        45,  70,  50,  50,  30,  18,  40,  30,  24,  15,  20,  15,  45,\n",
       "        49,  24,  90,   6,  12,  20,   3,  15,  20,   6, 120,  35,  28,\n",
       "        55, 100,  15,  25,  20,  20,  10,  40,  21,  16,  20,  21,   4,\n",
       "        40,  28,  60,  16,  30,  18,  30,  40,  35,   2,  80,  35,  60,\n",
       "        42,   2,  21,  20,  20,  35,  30,  20,  20,  30,  60,  24,  20,\n",
       "        15,  15,   7,  60,  20,  15,  10,  10,  20,  12,   8,  18,  14,\n",
       "        15,  15,  36,  50,  50,  10,  10,   9,   6,  12,  40,  50,  15,\n",
       "        16,  16,  84,  25,  80,  16,  10,  40,  20,  25,  25,  15,  18,\n",
       "         6,  15,   8,  30,  50,  30,   8,  50,  24,  10,  10,  50,  10,\n",
       "         5,  15,  15,  35,  35,   4,  36,   9,  15,  24,  30,  70,  24,\n",
       "        10,  55, 100,  48,   8,   6,  10,  40,  20,  30,  20,  20,  10,\n",
       "        30,  35,  18,  20,  40,  12,  18,  15,  20,  10,  16,   6,  25,\n",
       "        25,  18,  35,  18,  60,  40,  35,  15,  60,  11,  28,  12,  10,\n",
       "        15,  15,   9,  30,  50,  24,  10,  50,   4,  40, 100,  60,  25,\n",
       "         5,  21,  20,   4,  30, 120,  65,   5,  24,  30,  35,  12,   5,\n",
       "        25,   6,  10,  30,  20,  70,  15,  20,  20,  10,  21,   8,  15,\n",
       "        15,  15,  30,  18,  15,  25,  30,  35,  12,   8,  30,  20,  36,\n",
       "        13,  35,  80,  10,  15,  25,  60,  20,  15,  30,  20,  15,  21,\n",
       "         2,   4,  21,  15,  18,  30,  35,  15,  25,  12,  20,   2,  30,\n",
       "        20,  12,  20,   6,  20,   3,  28,   6,  70,  55,  70,  20,  24,\n",
       "        40,   3,  49,  30,  30,  20,  24,  12,  15,  45,  14,   8,   4,\n",
       "        15,  15,  30,   8,  50,  20,  40,  30,  12,  30,  50,   6,  18,\n",
       "        60,  35,  20,  30,  60,  30,  15,   7,   9,  30,  30,   8,  12,\n",
       "        65,   8,   5,  12,  40,  60,  42,  20,  35,  28,   3,  30,  27,\n",
       "        50,  18,  12,  32,  25,  12,   3,  40,  50,  20,  10,  10,  15,\n",
       "         3,  10,  40,  30,  20,   2,   5,  35,  40,  14,  15,  28,  50,\n",
       "         5,  40,  25,  12,  20,  30,  30,  14,  25,  21,  20,   6,  20,\n",
       "        12,  30,  35,  20, 130,  80,  30,  15,  15,  70,   7,   2,  16,\n",
       "        12,  27, 120,  20,   3,  20,   2,  30,  30,  15,  42,  15,  20,\n",
       "        50,  40,   3,  20,  14,  20,  15,   6,  35,  21,  35,  24,  20,\n",
       "        20,  50,  10,   7,  40,  20,  25,  30,  60,   5,  24,  15,  15,\n",
       "         4,  20,  15,  20,  50,  16,  40,  12,  20,   8,  30,  30,  20,\n",
       "        40,  60,  25,  20,  40,  15,   3,  10,  16,  20,   9,   9,   8,\n",
       "        20,   2,  40,  21,   4,  25,  50,  30,  15,   6,  10,   4,  70,\n",
       "        25,  42,  60,  80,  12,  60,  36,  45,  55,  18,  20,   4,  30,\n",
       "         5,  10,  10,  42, 100,  65,  15,  35,  10,  40,  35,  30,  20,\n",
       "        12,  60,  80,  21,   6,  40,  42,  50,  12,  16,  10,  20,  15,\n",
       "        21,  21,  30,  20,  30,  30,  50,  20,  32,  40,  21,  12,  15,\n",
       "        40,  28,  50, 120,   8,   3,  30,   6,  20,  20,  14,  40,  60,\n",
       "        30,  40,  60,  25,  10,  10,  24,  20,  30,  25,  12,  25,  30,\n",
       "        42,  30,  14,  20,   4,   8,  30,  20,  24,  49,  35,  10,  40,\n",
       "        44,  30,  80,   5,  18,  15,   6,  50,  16,  50,  50,  28,  25,\n",
       "        24,  12,  20,  10,   6,   2,  12,  12,  40,  20,  40,   6,  40,\n",
       "        84,  36,   8,  35,  40,  60,  65,  66,  50,  20,  90,  50,  35,\n",
       "        18,  20,  20,  20,  15,  21,  25,  30,  15,  24,   2,  70,  90,\n",
       "        18,  40,  50,  36,  60,  28,  24,  11,  44,  10,  20,  30,  21,\n",
       "       100,  60, 100,  70,  36,  15,   5,  30,  20,  15,  18,  25,  30,\n",
       "        10,   4,  50,  10,  30,  10,  35,  25,  10,  12,  40,  30,  77,\n",
       "        25,   4,   4,  20,   8,  36,  28,  40,  20,  30,  15,  10,  14,\n",
       "        10,  30,   2,  20,  20,  10,  24,   1,   1,   2,   2,   1,   2,\n",
       "         1,   2,   3,   2,   2,   2])"
      ]
     },
     "execution_count": 86,
     "metadata": {},
     "output_type": "execute_result"
    }
   ],
   "source": [
    "d"
   ]
  },
  {
   "cell_type": "code",
   "execution_count": 24,
   "metadata": {
    "ExecuteTime": {
     "end_time": "2020-06-30T15:21:58.701762Z",
     "start_time": "2020-06-30T15:21:58.694850Z"
    }
   },
   "outputs": [
    {
     "name": "stdout",
     "output_type": "stream",
     "text": [
      "Size of no discount group:  1317\n",
      "Size of discount group:  838\n",
      "Mean quantity of no discount group:  21.72\n",
      "Mean quantity of discount group:  27.11\n",
      "Standard deviation of no discount group:  17.5\n",
      "Standard deviation of discount group:  20.76\n"
     ]
    }
   ],
   "source": [
    "print(\"Size of no discount group: \", len(no_d))\n",
    "print(\"Size of discount group: \", len(d))\n",
    "print(\"Mean quantity of no discount group: \", round(no_d.mean(), 2))\n",
    "print(\"Mean quantity of discount group: \", round(d.mean(), 2))\n",
    "print(\"Standard deviation of no discount group: \", round(no_d.std(), 2))\n",
    "print(\"Standard deviation of discount group: \", round(d.std(), 2))"
   ]
  },
  {
   "cell_type": "code",
   "execution_count": 25,
   "metadata": {
    "ExecuteTime": {
     "end_time": "2020-06-30T15:22:18.190763Z",
     "start_time": "2020-06-30T15:22:17.745258Z"
    }
   },
   "outputs": [
    {
     "data": {
      "image/png": "[encoded data removed]",
      "text/plain": [
       "<Figure size 432x288 with 1 Axes>"
      ]
     },
     "metadata": {
      "needs_background": "light"
     },
     "output_type": "display_data"
    }
   ],
   "source": [
    "# plot two distribution plots together to compare\n",
    "sns.distplot(no_d, label='no discount')\n",
    "sns.distplot(d, label='discount')\n",
    "plt.legend()\n",
    "plt.title('Discount and No-discount Distribution of Quantities')\n",
    "plt.xlabel('Quantity')\n",
    "plt.ylabel('Density');"
   ]
  },
  {
   "cell_type": "markdown",
   "metadata": {},
   "source": [
    "**Null Hypothesis (H0): There is no relationship between discount and quantity ordered**\n",
    "\n",
    "**Alternative Hypothesis (Ha): There is a positive relationship between discount and quantity ordered - a discount is likely to result in a larger order**"
   ]
  },
  {
   "cell_type": "code",
   "execution_count": 26,
   "metadata": {
    "ExecuteTime": {
     "end_time": "2020-06-30T15:23:51.415260Z",
     "start_time": "2020-06-30T15:23:51.412537Z"
    }
   },
   "outputs": [],
   "source": [
    "alpha=.05"
   ]
  },
  {
   "cell_type": "code",
   "execution_count": 27,
   "metadata": {
    "ExecuteTime": {
     "end_time": "2020-06-30T15:24:28.046129Z",
     "start_time": "2020-06-30T15:24:28.039980Z"
    }
   },
   "outputs": [
    {
     "data": {
      "text/plain": [
       "(0.8434571027755737, 3.803856556577728e-34)"
      ]
     },
     "execution_count": 27,
     "metadata": {},
     "output_type": "execute_result"
    }
   ],
   "source": [
    "stats.shapiro(no_d)"
   ]
  },
  {
   "cell_type": "code",
   "execution_count": 28,
   "metadata": {
    "ExecuteTime": {
     "end_time": "2020-06-30T15:24:39.984974Z",
     "start_time": "2020-06-30T15:24:39.981001Z"
    }
   },
   "outputs": [
    {
     "data": {
      "text/plain": [
       "(0.8690301179885864, 6.88120409395894e-26)"
      ]
     },
     "execution_count": 28,
     "metadata": {},
     "output_type": "execute_result"
    }
   ],
   "source": [
    "stats.shapiro(d)"
   ]
  },
  {
   "cell_type": "code",
   "execution_count": 69,
   "metadata": {
    "ExecuteTime": {
     "end_time": "2020-06-30T15:34:57.961299Z",
     "start_time": "2020-06-30T15:34:57.958314Z"
    }
   },
   "outputs": [],
   "source": [
    "def get_sample(data):\n",
    "    import numpy as np\n",
    "    sample = np.random.choice(data,30)\n",
    "    return sample"
   ]
  },
  {
   "cell_type": "code",
   "execution_count": 70,
   "metadata": {
    "ExecuteTime": {
     "end_time": "2020-06-30T15:34:58.288793Z",
     "start_time": "2020-06-30T15:34:58.285642Z"
    }
   },
   "outputs": [],
   "source": [
    "def get_sample_mean(data):\n",
    "    sample_means = []\n",
    "    for i in range(30):\n",
    "        sample_means.append(get_sample(data).mean())\n",
    "    return sample_means"
   ]
  },
  {
   "cell_type": "code",
   "execution_count": 71,
   "metadata": {
    "ExecuteTime": {
     "end_time": "2020-06-30T15:34:58.539958Z",
     "start_time": "2020-06-30T15:34:58.536114Z"
    }
   },
   "outputs": [],
   "source": [
    "no_discount_sample = get_sample_mean(no_d)"
   ]
  },
  {
   "cell_type": "code",
   "execution_count": 72,
   "metadata": {
    "ExecuteTime": {
     "end_time": "2020-06-30T15:34:58.784262Z",
     "start_time": "2020-06-30T15:34:58.780032Z"
    }
   },
   "outputs": [
    {
     "data": {
      "text/plain": [
       "(0.9558246731758118, 0.24140672385692596)"
      ]
     },
     "execution_count": 72,
     "metadata": {},
     "output_type": "execute_result"
    }
   ],
   "source": [
    "stats.shapiro(no_discount_sample)"
   ]
  },
  {
   "cell_type": "code",
   "execution_count": 73,
   "metadata": {
    "ExecuteTime": {
     "end_time": "2020-06-30T15:34:59.047677Z",
     "start_time": "2020-06-30T15:34:59.043654Z"
    }
   },
   "outputs": [],
   "source": [
    "discount_sample = get_sample_mean(discount)"
   ]
  },
  {
   "cell_type": "code",
   "execution_count": 74,
   "metadata": {
    "ExecuteTime": {
     "end_time": "2020-06-30T15:34:59.423468Z",
     "start_time": "2020-06-30T15:34:59.419424Z"
    }
   },
   "outputs": [
    {
     "data": {
      "text/plain": [
       "(0.9624248147010803, 0.35674092173576355)"
      ]
     },
     "execution_count": 74,
     "metadata": {},
     "output_type": "execute_result"
    }
   ],
   "source": [
    "stats.shapiro(discount_sample)"
   ]
  },
  {
   "cell_type": "code",
   "execution_count": 75,
   "metadata": {
    "ExecuteTime": {
     "end_time": "2020-06-30T15:35:00.088103Z",
     "start_time": "2020-06-30T15:34:59.800735Z"
    }
   },
   "outputs": [
    {
     "data": {
      "image/png": "[encoded data removed]",
      "text/plain": [
       "<Figure size 432x288 with 1 Axes>"
      ]
     },
     "metadata": {
      "needs_background": "light"
     },
     "output_type": "display_data"
    }
   ],
   "source": [
    "sns.distplot(no_discount_sample, label='No Discount Sample')\n",
    "sns.distplot(discount_sample, label='Discount Sample')\n",
    "plt.legend()\n",
    "plt.title('Sample Discount and No-discount Distribution of Quantities')\n",
    "plt.xlabel('Quantity')\n",
    "plt.ylabel('Density');"
   ]
  },
  {
   "cell_type": "code",
   "execution_count": 76,
   "metadata": {
    "ExecuteTime": {
     "end_time": "2020-06-30T15:35:01.172596Z",
     "start_time": "2020-06-30T15:35:01.168417Z"
    }
   },
   "outputs": [
    {
     "data": {
      "text/plain": [
       "LeveneResult(statistic=17.58009006046259, pvalue=9.535029533948922e-05)"
      ]
     },
     "execution_count": 76,
     "metadata": {},
     "output_type": "execute_result"
    }
   ],
   "source": [
    "stats.levene(no_discount_sample, discount_sample)"
   ]
  },
  {
   "cell_type": "code",
   "execution_count": 87,
   "metadata": {
    "ExecuteTime": {
     "end_time": "2020-06-30T18:24:05.367043Z",
     "start_time": "2020-06-30T18:24:05.364131Z"
    }
   },
   "outputs": [],
   "source": [
    "# run a independent t-test with unequal varance to determine p\n",
    "p = stats.ttest_ind(no_discount_sample, discount_sample, axis=0, equal_var=False)[1]"
   ]
  },
  {
   "cell_type": "code",
   "execution_count": 79,
   "metadata": {
    "ExecuteTime": {
     "end_time": "2020-06-30T15:35:33.408921Z",
     "start_time": "2020-06-30T15:35:33.405487Z"
    },
    "scrolled": true
   },
   "outputs": [
    {
     "data": {
      "text/plain": [
       "0.00014416611813477097"
      ]
     },
     "execution_count": 79,
     "metadata": {},
     "output_type": "execute_result"
    }
   ],
   "source": [
    "p"
   ]
  },
  {
   "cell_type": "code",
   "execution_count": 81,
   "metadata": {
    "ExecuteTime": {
     "end_time": "2020-06-30T15:54:34.494141Z",
     "start_time": "2020-06-30T15:54:34.489535Z"
    }
   },
   "outputs": [],
   "source": [
    "def cohens_d(sample1,sample2):\n",
    "    from numpy import std, mean, sqrt\n",
    "    n1 = len(sample1)\n",
    "    n2 = len(sample2)\n",
    "    deg_freed = n1 + n2 - 2\n",
    "    return abs(mean(sample1) - mean(sample2)) / sqrt(((n1 - 1) * std(sample1, ddof=1) **2 + (n2 - 1) * std(sample2, ddof=1) **2) / deg_freed)"
   ]
  },
  {
   "cell_type": "code",
   "execution_count": 88,
   "metadata": {
    "ExecuteTime": {
     "end_time": "2020-06-30T18:25:15.978632Z",
     "start_time": "2020-06-30T18:25:15.974680Z"
    }
   },
   "outputs": [
    {
     "data": {
      "text/plain": [
       "1.1114005567429248"
      ]
     },
     "execution_count": 88,
     "metadata": {},
     "output_type": "execute_result"
    }
   ],
   "source": [
    "discount_effect = cohens_d(no_discount_sample, discount_sample)\n",
    "discount_effect"
   ]
  },
  {
   "cell_type": "code",
   "execution_count": 85,
   "metadata": {
    "ExecuteTime": {
     "end_time": "2020-06-30T15:55:26.615090Z",
     "start_time": "2020-06-30T15:55:26.609982Z"
    }
   },
   "outputs": [
    {
     "data": {
      "text/plain": [
       "0.9954549483628078"
      ]
     },
     "execution_count": 85,
     "metadata": {},
     "output_type": "execute_result"
    }
   ],
   "source": [
    "power = TTestIndPower()\n",
    "power.solve_power(effect_size=discount_effect, nobs1=len(discount_sample), alpha=alpha, alternative='larger')"
   ]
  },
  {
   "cell_type": "code",
   "execution_count": 90,
   "metadata": {
    "ExecuteTime": {
     "end_time": "2020-06-30T18:28:38.597811Z",
     "start_time": "2020-06-30T18:28:38.591023Z"
    }
   },
   "outputs": [
    {
     "data": {
      "text/plain": [
       "10.7565124607786"
      ]
     },
     "execution_count": 90,
     "metadata": {},
     "output_type": "execute_result"
    }
   ],
   "source": [
    "power.solve_power(effect_size=discount_effect, power = 0.8, alpha=alpha, alternative='larger')"
   ]
  },
  {
   "cell_type": "code",
   "execution_count": null,
   "metadata": {},
   "outputs": [],
   "source": []
  }
 ],
 "metadata": {
  "kernelspec": {
   "display_name": "Python 3",
   "language": "python",
   "name": "python3"
  },
  "language_info": {
   "codemirror_mode": {
    "name": "ipython",
    "version": 3
   },
   "file_extension": ".py",
   "mimetype": "text/x-python",
   "name": "python",
   "nbconvert_exporter": "python",
   "pygments_lexer": "ipython3",
   "version": "3.8.5"
  },
  "toc": {
   "base_numbering": 1,
   "nav_menu": {},
   "number_sections": true,
   "sideBar": true,
   "skip_h1_title": false,
   "title_cell": "Table of Contents",
   "title_sidebar": "Contents",
   "toc_cell": false,
   "toc_position": {},
   "toc_section_display": true,
   "toc_window_display": false
  },
  "varInspector": {
   "cols": {
    "lenName": 16,
    "lenType": 16,
    "lenVar": 40
   },
   "kernels_config": {
    "python": {
     "delete_cmd_postfix": "",
     "delete_cmd_prefix": "del ",
     "library": "var_list.py",
     "varRefreshCmd": "print(var_dic_list())"
    },
    "r": {
     "delete_cmd_postfix": ") ",
     "delete_cmd_prefix": "rm(",
     "library": "var_list.r",
     "varRefreshCmd": "cat(var_dic_list()) "
    }
   },
   "types_to_exclude": [
    "module",
    "function",
    "builtin_function_or_method",
    "instance",
    "_Feature"
   ],
   "window_display": false
  }
 },
 "nbformat": 4,
 "nbformat_minor": 2
}
